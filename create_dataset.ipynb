{
 "cells": [
  {
   "cell_type": "code",
   "execution_count": null,
   "id": "7e53b180-b3e9-44ac-934b-31a209db7de6",
   "metadata": {},
   "outputs": [],
   "source": [
    "from PIL import Image\n",
    "import os\n",
    "from segments.utils import get_semantic_bitmap\n",
    "import numpy as np\n",
    "import matplotlib.pyplot as plt\n",
    "from segments import SegmentsClient, SegmentsDataset\n",
    "from datasets import Dataset\n",
    "from datasets import concatenate_datasets\n",
    "from huggingface_hub import login"
   ]
  },
  {
   "cell_type": "code",
   "execution_count": null,
   "id": "f12727d2",
   "metadata": {},
   "outputs": [],
   "source": [
    "\n",
    "login('API_KEY')"
   ]
  },
  {
   "cell_type": "code",
   "execution_count": null,
   "id": "f8e6a344",
   "metadata": {},
   "outputs": [
    {
     "name": "stdout",
     "output_type": "stream",
     "text": [
      "Initializing dataset...\n",
      "Preloading all samples. This may take a while...\n"
     ]
    },
    {
     "name": "stderr",
     "output_type": "stream",
     "text": [
      "100%|\u001b[38;2;255;153;0m██████████\u001b[0m| 1178/1178 [00:00<00:00, 3832.54it/s]"
     ]
    },
    {
     "name": "stdout",
     "output_type": "stream",
     "text": [
      "Initialized dataset with 1178 images.\n"
     ]
    },
    {
     "name": "stderr",
     "output_type": "stream",
     "text": [
      "\n"
     ]
    }
   ],
   "source": [
    "client = SegmentsClient('API_KEY')\n",
    "release = client.get_release('hidonbush/text', 'paper cuttingv0.1')\n",
    "dataset = SegmentsDataset(release, labelset='ground-truth', filter_by=['labeled', 'reviewed'])"
   ]
  },
  {
   "cell_type": "code",
   "execution_count": 5,
   "id": "6ef30100",
   "metadata": {},
   "outputs": [],
   "source": [
    "def get_annotation(segdataset):\n",
    "    annotaton_info={}\n",
    "    for i in segdataset.release['dataset']['samples']:\n",
    "        annotaton_info.update({i['name']:i['labels']['ground-truth']['attributes']['annotations']})\n",
    "    return annotaton_info"
   ]
  },
  {
   "cell_type": "code",
   "execution_count": 6,
   "id": "e71891d9",
   "metadata": {},
   "outputs": [],
   "source": [
    "def get_files(location):\n",
    "    filenames=os.listdir(location)\n",
    "    return filenames"
   ]
  },
  {
   "cell_type": "code",
   "execution_count": 7,
   "id": "d9400e9c",
   "metadata": {},
   "outputs": [],
   "source": [
    "def get_pictureset(files):\n",
    "    pictureset=[]\n",
    "    for i in files:\n",
    "        if i[-23:]=='_label_ground-truth.png':\n",
    "            pictureset.append({'name':i[:-23]+'.png','pixel_values':Image.open('/Users/zjy/Desktop/code/segments/hidonbush_text/paper cuttingv0.1/'+i[:-23]+'.png'),'label':Image.open('/Users/zjy/Desktop/code/segments/hidonbush_text/paper cuttingv0.1/'+i)})\n",
    "    return pictureset\n"
   ]
  },
  {
   "cell_type": "code",
   "execution_count": 8,
   "id": "4fe72bb3",
   "metadata": {},
   "outputs": [],
   "source": [
    "def create_dataset(annotaton_info,pictureset):\n",
    "    resultlist_semantic_bitmap=[]\n",
    "    resultlist_pixel_values=[]\n",
    "    for i in pictureset:\n",
    "        annotation=annotaton_info[i['name']]\n",
    "        if annotation!=[]:\n",
    "            semantic_bitmap=get_semantic_bitmap(i['label'],annotation)\n",
    "            semantic_bitmap=Image.fromarray(semantic_bitmap.astype(np.int32)).convert('L')\n",
    "            resultlist_semantic_bitmap.append(semantic_bitmap)\n",
    "        else:\n",
    "            height, width = i['label'].size\n",
    "            semantic_bitmap=Image.fromarray(np.zeros((height, width), dtype=np.int32)).convert('L')\n",
    "            resultlist_semantic_bitmap.append(semantic_bitmap)\n",
    "        resultlist_pixel_values.append(i['pixel_values'].convert('RGB'))\n",
    "    return {'pixel_values':resultlist_pixel_values,'label':resultlist_semantic_bitmap}"
   ]
  },
  {
   "cell_type": "code",
   "execution_count": 9,
   "id": "9a2fae62",
   "metadata": {},
   "outputs": [],
   "source": [
    "annotaton_info=get_annotation(dataset)"
   ]
  },
  {
   "cell_type": "code",
   "execution_count": null,
   "id": "40b01b55",
   "metadata": {},
   "outputs": [],
   "source": [
    "files=get_files('Location')"
   ]
  },
  {
   "cell_type": "code",
   "execution_count": 11,
   "id": "c40495ee",
   "metadata": {},
   "outputs": [],
   "source": [
    "pictureset=get_pictureset(files)"
   ]
  },
  {
   "cell_type": "code",
   "execution_count": 12,
   "id": "a77c7441",
   "metadata": {},
   "outputs": [],
   "source": [
    "picdataset=create_dataset(annotaton_info=annotaton_info,pictureset=pictureset)"
   ]
  },
  {
   "cell_type": "code",
   "execution_count": 14,
   "id": "e1ff19ae",
   "metadata": {},
   "outputs": [
    {
     "name": "stdout",
     "output_type": "stream",
     "text": [
      "<PIL.Image.Image image mode=RGB size=1169x1858 at 0x1070429E0>\n"
     ]
    }
   ],
   "source": [
    "print(picdataset['pixel_values'][0])"
   ]
  },
  {
   "cell_type": "code",
   "execution_count": 15,
   "id": "c2789965",
   "metadata": {},
   "outputs": [],
   "source": [
    "hf_dataset01=Dataset.from_dict({'pixel_values':picdataset['pixel_values'][0:100],'labels':picdataset['label'][0:100]})"
   ]
  },
  {
   "cell_type": "code",
   "execution_count": 16,
   "id": "9c8ace08",
   "metadata": {},
   "outputs": [],
   "source": [
    "hf_dataset02=Dataset.from_dict({'pixel_values':picdataset['pixel_values'][100:300],'labels':picdataset['label'][100:300]})"
   ]
  },
  {
   "cell_type": "code",
   "execution_count": 17,
   "id": "84b9da37",
   "metadata": {},
   "outputs": [],
   "source": [
    "hf_dataset03=Dataset.from_dict({'pixel_values':picdataset['pixel_values'][300:600],'labels':picdataset['label'][300:600]})"
   ]
  },
  {
   "cell_type": "code",
   "execution_count": 18,
   "id": "f2c7ec4c",
   "metadata": {},
   "outputs": [],
   "source": [
    "hf_dataset04=Dataset.from_dict({'pixel_values':picdataset['pixel_values'][600:900],'labels':picdataset['label'][600:900]})"
   ]
  },
  {
   "cell_type": "code",
   "execution_count": 19,
   "id": "08027663",
   "metadata": {},
   "outputs": [],
   "source": [
    "hf_dataset05=Dataset.from_dict({'pixel_values':picdataset['pixel_values'][900:],'labels':picdataset['label'][900:]})"
   ]
  },
  {
   "cell_type": "code",
   "execution_count": 20,
   "id": "13adbe86",
   "metadata": {},
   "outputs": [],
   "source": [
    "hf_dataset=concatenate_datasets([hf_dataset01,hf_dataset02,hf_dataset03,hf_dataset04,hf_dataset05])"
   ]
  },
  {
   "cell_type": "code",
   "execution_count": 21,
   "id": "92861008",
   "metadata": {},
   "outputs": [
    {
     "data": {
      "application/vnd.jupyter.widget-view+json": {
       "model_id": "83e2ceab37314654a5f38d46df0b934c",
       "version_major": 2,
       "version_minor": 0
      },
      "text/plain": [
       "Uploading the dataset shards:   0%|          | 0/2 [00:00<?, ?it/s]"
      ]
     },
     "metadata": {},
     "output_type": "display_data"
    },
    {
     "data": {
      "application/vnd.jupyter.widget-view+json": {
       "model_id": "e18d61401262464f93b51ef7dcfa107e",
       "version_major": 2,
       "version_minor": 0
      },
      "text/plain": [
       "Map:   0%|          | 0/589 [00:00<?, ? examples/s]"
      ]
     },
     "metadata": {},
     "output_type": "display_data"
    },
    {
     "data": {
      "application/vnd.jupyter.widget-view+json": {
       "model_id": "0b66bef902c14844a84aedad64b1b620",
       "version_major": 2,
       "version_minor": 0
      },
      "text/plain": [
       "Creating parquet from Arrow format:   0%|          | 0/6 [00:00<?, ?ba/s]"
      ]
     },
     "metadata": {},
     "output_type": "display_data"
    },
    {
     "data": {
      "application/vnd.jupyter.widget-view+json": {
       "model_id": "bbeea9e91a574901a439f75ed3be6795",
       "version_major": 2,
       "version_minor": 0
      },
      "text/plain": [
       "Map:   0%|          | 0/589 [00:00<?, ? examples/s]"
      ]
     },
     "metadata": {},
     "output_type": "display_data"
    },
    {
     "data": {
      "application/vnd.jupyter.widget-view+json": {
       "model_id": "658d12f07e81410e9f9e1512b9177c00",
       "version_major": 2,
       "version_minor": 0
      },
      "text/plain": [
       "Creating parquet from Arrow format:   0%|          | 0/6 [00:00<?, ?ba/s]"
      ]
     },
     "metadata": {},
     "output_type": "display_data"
    },
    {
     "data": {
      "application/vnd.jupyter.widget-view+json": {
       "model_id": "3a7a9b38ccab4a14abd077073e193b15",
       "version_major": 2,
       "version_minor": 0
      },
      "text/plain": [
       "README.md:   0%|          | 0.00/352 [00:00<?, ?B/s]"
      ]
     },
     "metadata": {},
     "output_type": "display_data"
    },
    {
     "data": {
      "text/plain": [
       "CommitInfo(commit_url='https://huggingface.co/datasets/hidonbush/paper-cuttingv0.1/commit/d692210e8d99b6a816db96eca77f7da8a954910e', commit_message='Upload dataset', commit_description='', oid='d692210e8d99b6a816db96eca77f7da8a954910e', pr_url=None, repo_url=RepoUrl('https://huggingface.co/datasets/hidonbush/paper-cuttingv0.1', endpoint='https://huggingface.co', repo_type='dataset', repo_id='hidonbush/paper-cuttingv0.1'), pr_revision=None, pr_num=None)"
      ]
     },
     "execution_count": 21,
     "metadata": {},
     "output_type": "execute_result"
    }
   ],
   "source": [
    "hf_dataset_identifier = f\"hidonbush/paper-cuttingv0.1\"\n",
    "\n",
    "hf_dataset.push_to_hub(hf_dataset_identifier)"
   ]
  },
  {
   "cell_type": "code",
   "execution_count": null,
   "id": "540cf6dd",
   "metadata": {},
   "outputs": [],
   "source": []
  }
 ],
 "metadata": {
  "kernelspec": {
   "display_name": "paper-cutting",
   "language": "python",
   "name": "python3"
  },
  "language_info": {
   "codemirror_mode": {
    "name": "ipython",
    "version": 3
   },
   "file_extension": ".py",
   "mimetype": "text/x-python",
   "name": "python",
   "nbconvert_exporter": "python",
   "pygments_lexer": "ipython3",
   "version": "3.10.15"
  }
 },
 "nbformat": 4,
 "nbformat_minor": 5
}
